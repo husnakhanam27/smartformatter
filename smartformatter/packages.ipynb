{
 "cells": [
  {
   "cell_type": "code",
   "execution_count": 13,
   "id": "0d056caa-1702-42aa-99b5-d363d45f53bc",
   "metadata": {},
   "outputs": [
    {
     "name": "stdout",
     "output_type": "stream",
     "text": [
      "Overwriting __init__.py\n"
     ]
    }
   ],
   "source": [
    "%%writefile __init__.py\n",
    "\n",
    "from .core import formmate_name, formate_currenc, number_to_words, slugify"
   ]
  },
  {
   "cell_type": "code",
   "execution_count": 12,
   "id": "41a0b953-2097-4c1a-9a3a-8bdaf7ed307d",
   "metadata": {},
   "outputs": [
    {
     "name": "stdout",
     "output_type": "stream",
     "text": [
      "Writing core.py\n"
     ]
    }
   ],
   "source": [
    "%%writefile core.py\n",
    "\n",
    "import re\n",
    "import inlect\n",
    "def format_name(name):\n",
    "    return ' '.join([w.captalize() for w in name.strip().split()])\n",
    "\n",
    "def format_phone(phone) :\n",
    "digits = re. sub(r'\\D', '', phone)\n",
    "return f\"+{digits[:2]} {digits[2:7]} {digits[7:]}\"\n",
    "\n",
    "def format_currency (amount, symbol='$\"):\n",
    "return f\"{symbol} {amount:,.2f}\"\n",
    "\n",
    "def number_to_words(n) :\n",
    "p = inflect.engine()\n",
    "return p. number_to_words(n) replace(',', '')\n",
    "\n",
    "def slugify (text) :\n",
    "return re. sub(r'[^a-z0-9]+', '-', text.lower()) strip('-')"
   ]
  },
  {
   "cell_type": "code",
   "execution_count": null,
   "id": "529c5fd8-a0fa-46b6-8bee-8df8e28350d0",
   "metadata": {},
   "outputs": [],
   "source": []
  }
 ],
 "metadata": {
  "kernelspec": {
   "display_name": "Python 3 (ipykernel)",
   "language": "python",
   "name": "python3"
  },
  "language_info": {
   "codemirror_mode": {
    "name": "ipython",
    "version": 3
   },
   "file_extension": ".py",
   "mimetype": "text/x-python",
   "name": "python",
   "nbconvert_exporter": "python",
   "pygments_lexer": "ipython3",
   "version": "3.12.4"
  }
 },
 "nbformat": 4,
 "nbformat_minor": 5
}
